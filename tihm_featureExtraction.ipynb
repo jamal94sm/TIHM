{
  "cells": [
    {
      "cell_type": "markdown",
      "metadata": {
        "id": "view-in-github",
        "colab_type": "text"
      },
      "source": [
        "<a href=\"https://colab.research.google.com/github/jamal94sm/TIHM/blob/main/tihm_featureExtraction.ipynb\" target=\"_parent\"><img src=\"https://colab.research.google.com/assets/colab-badge.svg\" alt=\"Open In Colab\"/></a>"
      ]
    },
    {
      "cell_type": "code",
      "source": [
        "!pip install joypy"
      ],
      "metadata": {
        "colab": {
          "base_uri": "https://localhost:8080/"
        },
        "id": "PxoRR1qGkkhZ",
        "outputId": "89a9dfa5-9e1e-44ec-942e-255ec3773df4",
        "collapsed": true
      },
      "id": "PxoRR1qGkkhZ",
      "execution_count": null,
      "outputs": [
        {
          "output_type": "stream",
          "name": "stdout",
          "text": [
            "Collecting joypy\n",
            "  Downloading joypy-0.2.6-py2.py3-none-any.whl.metadata (812 bytes)\n",
            "Requirement already satisfied: numpy>=1.16.5 in /usr/local/lib/python3.11/dist-packages (from joypy) (1.26.4)\n",
            "Requirement already satisfied: scipy>=0.11.0 in /usr/local/lib/python3.11/dist-packages (from joypy) (1.13.1)\n",
            "Requirement already satisfied: pandas>=0.20.0 in /usr/local/lib/python3.11/dist-packages (from joypy) (2.2.2)\n",
            "Requirement already satisfied: matplotlib in /usr/local/lib/python3.11/dist-packages (from joypy) (3.10.0)\n",
            "Requirement already satisfied: python-dateutil>=2.8.2 in /usr/local/lib/python3.11/dist-packages (from pandas>=0.20.0->joypy) (2.8.2)\n",
            "Requirement already satisfied: pytz>=2020.1 in /usr/local/lib/python3.11/dist-packages (from pandas>=0.20.0->joypy) (2024.2)\n",
            "Requirement already satisfied: tzdata>=2022.7 in /usr/local/lib/python3.11/dist-packages (from pandas>=0.20.0->joypy) (2025.1)\n",
            "Requirement already satisfied: contourpy>=1.0.1 in /usr/local/lib/python3.11/dist-packages (from matplotlib->joypy) (1.3.1)\n",
            "Requirement already satisfied: cycler>=0.10 in /usr/local/lib/python3.11/dist-packages (from matplotlib->joypy) (0.12.1)\n",
            "Requirement already satisfied: fonttools>=4.22.0 in /usr/local/lib/python3.11/dist-packages (from matplotlib->joypy) (4.55.7)\n",
            "Requirement already satisfied: kiwisolver>=1.3.1 in /usr/local/lib/python3.11/dist-packages (from matplotlib->joypy) (1.4.8)\n",
            "Requirement already satisfied: packaging>=20.0 in /usr/local/lib/python3.11/dist-packages (from matplotlib->joypy) (24.2)\n",
            "Requirement already satisfied: pillow>=8 in /usr/local/lib/python3.11/dist-packages (from matplotlib->joypy) (11.1.0)\n",
            "Requirement already satisfied: pyparsing>=2.3.1 in /usr/local/lib/python3.11/dist-packages (from matplotlib->joypy) (3.2.1)\n",
            "Requirement already satisfied: six>=1.5 in /usr/local/lib/python3.11/dist-packages (from python-dateutil>=2.8.2->pandas>=0.20.0->joypy) (1.17.0)\n",
            "Downloading joypy-0.2.6-py2.py3-none-any.whl (8.6 kB)\n",
            "Installing collected packages: joypy\n",
            "Successfully installed joypy-0.2.6\n"
          ]
        }
      ]
    },
    {
      "cell_type": "code",
      "source": [
        "!git config --global user.email \"jamal73sm@gmail.com\"\n",
        "!git config --global user.name \"jamal94sm\"\n",
        "\n",
        "!git add .\n",
        "!git commit -m \"updated\"\n",
        "!git push origin main"
      ],
      "metadata": {
        "id": "272PpJZMNUug",
        "outputId": "d066b83b-2bca-49e4-9e3e-778dd45371af",
        "colab": {
          "base_uri": "https://localhost:8080/"
        }
      },
      "id": "272PpJZMNUug",
      "execution_count": null,
      "outputs": [
        {
          "output_type": "stream",
          "name": "stdout",
          "text": [
            "On branch main\n",
            "Your branch is up to date with 'origin/main'.\n",
            "\n",
            "nothing to commit, working tree clean\n",
            "fatal: could not read Username for 'https://github.com': No such device or address\n"
          ]
        }
      ]
    },
    {
      "cell_type": "code",
      "source": [
        "print('Hello JJ')"
      ],
      "metadata": {
        "colab": {
          "base_uri": "https://localhost:8080/"
        },
        "id": "EhJRdozAyFAn",
        "outputId": "799a351a-9f00-4e2c-cfd6-10de965be330"
      },
      "id": "EhJRdozAyFAn",
      "execution_count": 18,
      "outputs": [
        {
          "output_type": "stream",
          "name": "stdout",
          "text": [
            "Hello JJ\n"
          ]
        }
      ]
    },
    {
      "cell_type": "markdown",
      "id": "YyxkLFe7k626",
      "metadata": {
        "collapsed": true,
        "id": "YyxkLFe7k626",
        "outputId": "7cea464d-3ec0-4a7f-ebb7-0c37686da3ad"
      },
      "source": [
        "**Clone Github repo and set working directory path**"
      ]
    },
    {
      "cell_type": "code",
      "source": [
        "!git clone https://github.com/jamal94sm/TIHM.git\n",
        "%cd /content/TIHM"
      ],
      "metadata": {
        "id": "AUeojde8Z6jc",
        "colab": {
          "base_uri": "https://localhost:8080/"
        },
        "outputId": "153aa196-fbf6-42ee-ec0b-e716858274b3"
      },
      "id": "AUeojde8Z6jc",
      "execution_count": null,
      "outputs": [
        {
          "output_type": "stream",
          "name": "stdout",
          "text": [
            "Cloning into 'TIHM'...\n",
            "remote: Enumerating objects: 90, done.\u001b[K\n",
            "remote: Counting objects: 100% (90/90), done.\u001b[K\n",
            "remote: Compressing objects: 100% (85/85), done.\u001b[K\n",
            "remote: Total 90 (delta 30), reused 12 (delta 3), pack-reused 0 (from 0)\u001b[K\n",
            "Receiving objects: 100% (90/90), 23.96 MiB | 4.43 MiB/s, done.\n",
            "Resolving deltas: 100% (30/30), done.\n",
            "Updating files: 100% (27/27), done.\n",
            "/content/TIHM\n"
          ]
        }
      ]
    },
    {
      "cell_type": "markdown",
      "source": [
        "**Load packages**"
      ],
      "metadata": {
        "id": "zgxw3q9IGLOF"
      },
      "id": "zgxw3q9IGLOF"
    },
    {
      "cell_type": "code",
      "source": [
        "import pandas as pd\n",
        "import matplotlib.pyplot as plt\n",
        "import numpy as np\n",
        "import seaborn as sns\n",
        "from matplotlib import cm\n",
        "from joypy import joyplot\n",
        "import matplotlib.patches as mpatches\n",
        "from collections.abc import Iterable\n",
        "from sklearn.preprocessing import StandardScaler\n",
        "import pandas as pd\n",
        "import matplotlib.pyplot as plt\n",
        "import numpy as np\n",
        "import seaborn as sns\n",
        "import os\n",
        "import warnings\n",
        "warnings.filterwarnings('ignore')\n",
        "from matplotlib import cm\n",
        "from joypy import joyplot\n",
        "#from utils import *\n",
        "\n",
        "%matplotlib inline\n",
        "## Set colour palette\n",
        "ibm_colorblind = ['#648FFF', '#FE6100', '#DC267F', '#785EF0', '#FFB000','#48A9A6']\n",
        "sns.set_palette(ibm_colorblind)"
      ],
      "metadata": {
        "id": "m5AN7S6AS9So"
      },
      "id": "m5AN7S6AS9So",
      "execution_count": null,
      "outputs": []
    },
    {
      "cell_type": "markdown",
      "source": [
        "**Functions**"
      ],
      "metadata": {
        "id": "ir6qpxrDLGRG"
      },
      "id": "ir6qpxrDLGRG"
    },
    {
      "cell_type": "code",
      "source": [
        "\n",
        "\n",
        "def correct_col_type(df,col):\n",
        "    raw_type = str(type(df[col].dtype)).split('.')[-1].split('\\'')[0].lower()\n",
        "    #print(col,raw_type)\n",
        "    if 'object' in raw_type:\n",
        "        if 'date' in col or 'timestamp' in col or 'datetime' in col:\n",
        "            return pd.to_datetime(df[col])\n",
        "        else:\n",
        "            return df[col].astype('category')\n",
        "    else:\n",
        "        return df[col]\n",
        "\n",
        "\n",
        "def gen_date_col(df, tcol):\n",
        "    df['timestamp'] = pd.to_datetime(df['timestamp'])\n",
        "    df['date'] = df[tcol].dt.date\n",
        "    return df\n",
        "\n",
        "\n",
        "\n"
      ],
      "metadata": {
        "id": "EUB26IzPc0cQ"
      },
      "id": "EUB26IzPc0cQ",
      "execution_count": null,
      "outputs": []
    },
    {
      "cell_type": "markdown",
      "source": [
        "**Set Data and Fig folders paths**"
      ],
      "metadata": {
        "id": "fk-vL5PTGiDm"
      },
      "id": "fk-vL5PTGiDm"
    },
    {
      "cell_type": "code",
      "execution_count": null,
      "id": "d366e263",
      "metadata": {
        "id": "d366e263"
      },
      "outputs": [],
      "source": [
        "## Please change the path with the path of your dataset\n",
        "DPATH = './Dataset'\n",
        "SAVE_PATH = './Figs/'\n",
        "if not os.path.exists(SAVE_PATH):\n",
        "    os.makedirs(SAVE_PATH)\n",
        "\n"
      ]
    },
    {
      "cell_type": "markdown",
      "source": [
        "**Import Files**"
      ],
      "metadata": {
        "id": "wzKsui6fJR9q"
      },
      "id": "wzKsui6fJR9q"
    },
    {
      "cell_type": "code",
      "source": [
        "### Labels\n",
        "f = 'Labels.csv'\n",
        "fpth = os.path.join(DPATH,f)\n",
        "labels_df = pd.read_csv(fpth)\n",
        "for col in labels_df.columns:\n",
        "    labels_df[col] = correct_col_type(labels_df,col)\n",
        "if 'date' in labels_df.columns:\n",
        "    labels_df = labels_df.rename(columns={'date':'timestamp'})\n",
        "if 'type' in labels_df.columns:\n",
        "    labels_df = labels_df.rename(columns={'type':'label'})\n",
        "labels_df = gen_date_col(labels_df,tcol='timestamp')\n",
        "\n",
        "labels_patients = np.unique(labels_df['patient_id'])\n",
        "\n",
        "Agitation_labels = labels_df[labels_df['label'] == 'Agitation']\n",
        "Agitation_labels"
      ],
      "metadata": {
        "id": "ZPLHwtYKJRET",
        "colab": {
          "base_uri": "https://localhost:8080/",
          "height": 424
        },
        "outputId": "132f7be1-e814-4105-f6e2-277489ef728b"
      },
      "id": "ZPLHwtYKJRET",
      "execution_count": null,
      "outputs": [
        {
          "output_type": "execute_result",
          "data": {
            "text/plain": [
              "    patient_id           timestamp      label        date\n",
              "2        16f4b 2019-04-11 12:00:22  Agitation  2019-04-11\n",
              "4        16f4b 2019-04-14 12:00:07  Agitation  2019-04-14\n",
              "5        16f4b 2019-04-15 18:00:24  Agitation  2019-04-15\n",
              "6        16f4b 2019-04-16 18:00:38  Agitation  2019-04-16\n",
              "11       16f4b 2019-04-21 12:00:55  Agitation  2019-04-21\n",
              "..         ...                 ...        ...         ...\n",
              "587      0d5ef 2019-06-28 18:02:11  Agitation  2019-06-28\n",
              "588      d7a46 2019-06-28 18:02:21  Agitation  2019-06-28\n",
              "598      6b29b 2019-06-29 12:00:27  Agitation  2019-06-29\n",
              "599      95899 2019-06-29 12:01:20  Agitation  2019-06-29\n",
              "604      95899 2019-06-29 18:01:14  Agitation  2019-06-29\n",
              "\n",
              "[135 rows x 4 columns]"
            ],
            "text/html": [
              "\n",
              "  <div id=\"df-0eb7c3ba-6aa4-465f-8835-16eb58faf419\" class=\"colab-df-container\">\n",
              "    <div>\n",
              "<style scoped>\n",
              "    .dataframe tbody tr th:only-of-type {\n",
              "        vertical-align: middle;\n",
              "    }\n",
              "\n",
              "    .dataframe tbody tr th {\n",
              "        vertical-align: top;\n",
              "    }\n",
              "\n",
              "    .dataframe thead th {\n",
              "        text-align: right;\n",
              "    }\n",
              "</style>\n",
              "<table border=\"1\" class=\"dataframe\">\n",
              "  <thead>\n",
              "    <tr style=\"text-align: right;\">\n",
              "      <th></th>\n",
              "      <th>patient_id</th>\n",
              "      <th>timestamp</th>\n",
              "      <th>label</th>\n",
              "      <th>date</th>\n",
              "    </tr>\n",
              "  </thead>\n",
              "  <tbody>\n",
              "    <tr>\n",
              "      <th>2</th>\n",
              "      <td>16f4b</td>\n",
              "      <td>2019-04-11 12:00:22</td>\n",
              "      <td>Agitation</td>\n",
              "      <td>2019-04-11</td>\n",
              "    </tr>\n",
              "    <tr>\n",
              "      <th>4</th>\n",
              "      <td>16f4b</td>\n",
              "      <td>2019-04-14 12:00:07</td>\n",
              "      <td>Agitation</td>\n",
              "      <td>2019-04-14</td>\n",
              "    </tr>\n",
              "    <tr>\n",
              "      <th>5</th>\n",
              "      <td>16f4b</td>\n",
              "      <td>2019-04-15 18:00:24</td>\n",
              "      <td>Agitation</td>\n",
              "      <td>2019-04-15</td>\n",
              "    </tr>\n",
              "    <tr>\n",
              "      <th>6</th>\n",
              "      <td>16f4b</td>\n",
              "      <td>2019-04-16 18:00:38</td>\n",
              "      <td>Agitation</td>\n",
              "      <td>2019-04-16</td>\n",
              "    </tr>\n",
              "    <tr>\n",
              "      <th>11</th>\n",
              "      <td>16f4b</td>\n",
              "      <td>2019-04-21 12:00:55</td>\n",
              "      <td>Agitation</td>\n",
              "      <td>2019-04-21</td>\n",
              "    </tr>\n",
              "    <tr>\n",
              "      <th>...</th>\n",
              "      <td>...</td>\n",
              "      <td>...</td>\n",
              "      <td>...</td>\n",
              "      <td>...</td>\n",
              "    </tr>\n",
              "    <tr>\n",
              "      <th>587</th>\n",
              "      <td>0d5ef</td>\n",
              "      <td>2019-06-28 18:02:11</td>\n",
              "      <td>Agitation</td>\n",
              "      <td>2019-06-28</td>\n",
              "    </tr>\n",
              "    <tr>\n",
              "      <th>588</th>\n",
              "      <td>d7a46</td>\n",
              "      <td>2019-06-28 18:02:21</td>\n",
              "      <td>Agitation</td>\n",
              "      <td>2019-06-28</td>\n",
              "    </tr>\n",
              "    <tr>\n",
              "      <th>598</th>\n",
              "      <td>6b29b</td>\n",
              "      <td>2019-06-29 12:00:27</td>\n",
              "      <td>Agitation</td>\n",
              "      <td>2019-06-29</td>\n",
              "    </tr>\n",
              "    <tr>\n",
              "      <th>599</th>\n",
              "      <td>95899</td>\n",
              "      <td>2019-06-29 12:01:20</td>\n",
              "      <td>Agitation</td>\n",
              "      <td>2019-06-29</td>\n",
              "    </tr>\n",
              "    <tr>\n",
              "      <th>604</th>\n",
              "      <td>95899</td>\n",
              "      <td>2019-06-29 18:01:14</td>\n",
              "      <td>Agitation</td>\n",
              "      <td>2019-06-29</td>\n",
              "    </tr>\n",
              "  </tbody>\n",
              "</table>\n",
              "<p>135 rows × 4 columns</p>\n",
              "</div>\n",
              "    <div class=\"colab-df-buttons\">\n",
              "\n",
              "  <div class=\"colab-df-container\">\n",
              "    <button class=\"colab-df-convert\" onclick=\"convertToInteractive('df-0eb7c3ba-6aa4-465f-8835-16eb58faf419')\"\n",
              "            title=\"Convert this dataframe to an interactive table.\"\n",
              "            style=\"display:none;\">\n",
              "\n",
              "  <svg xmlns=\"http://www.w3.org/2000/svg\" height=\"24px\" viewBox=\"0 -960 960 960\">\n",
              "    <path d=\"M120-120v-720h720v720H120Zm60-500h600v-160H180v160Zm220 220h160v-160H400v160Zm0 220h160v-160H400v160ZM180-400h160v-160H180v160Zm440 0h160v-160H620v160ZM180-180h160v-160H180v160Zm440 0h160v-160H620v160Z\"/>\n",
              "  </svg>\n",
              "    </button>\n",
              "\n",
              "  <style>\n",
              "    .colab-df-container {\n",
              "      display:flex;\n",
              "      gap: 12px;\n",
              "    }\n",
              "\n",
              "    .colab-df-convert {\n",
              "      background-color: #E8F0FE;\n",
              "      border: none;\n",
              "      border-radius: 50%;\n",
              "      cursor: pointer;\n",
              "      display: none;\n",
              "      fill: #1967D2;\n",
              "      height: 32px;\n",
              "      padding: 0 0 0 0;\n",
              "      width: 32px;\n",
              "    }\n",
              "\n",
              "    .colab-df-convert:hover {\n",
              "      background-color: #E2EBFA;\n",
              "      box-shadow: 0px 1px 2px rgba(60, 64, 67, 0.3), 0px 1px 3px 1px rgba(60, 64, 67, 0.15);\n",
              "      fill: #174EA6;\n",
              "    }\n",
              "\n",
              "    .colab-df-buttons div {\n",
              "      margin-bottom: 4px;\n",
              "    }\n",
              "\n",
              "    [theme=dark] .colab-df-convert {\n",
              "      background-color: #3B4455;\n",
              "      fill: #D2E3FC;\n",
              "    }\n",
              "\n",
              "    [theme=dark] .colab-df-convert:hover {\n",
              "      background-color: #434B5C;\n",
              "      box-shadow: 0px 1px 3px 1px rgba(0, 0, 0, 0.15);\n",
              "      filter: drop-shadow(0px 1px 2px rgba(0, 0, 0, 0.3));\n",
              "      fill: #FFFFFF;\n",
              "    }\n",
              "  </style>\n",
              "\n",
              "    <script>\n",
              "      const buttonEl =\n",
              "        document.querySelector('#df-0eb7c3ba-6aa4-465f-8835-16eb58faf419 button.colab-df-convert');\n",
              "      buttonEl.style.display =\n",
              "        google.colab.kernel.accessAllowed ? 'block' : 'none';\n",
              "\n",
              "      async function convertToInteractive(key) {\n",
              "        const element = document.querySelector('#df-0eb7c3ba-6aa4-465f-8835-16eb58faf419');\n",
              "        const dataTable =\n",
              "          await google.colab.kernel.invokeFunction('convertToInteractive',\n",
              "                                                    [key], {});\n",
              "        if (!dataTable) return;\n",
              "\n",
              "        const docLinkHtml = 'Like what you see? Visit the ' +\n",
              "          '<a target=\"_blank\" href=https://colab.research.google.com/notebooks/data_table.ipynb>data table notebook</a>'\n",
              "          + ' to learn more about interactive tables.';\n",
              "        element.innerHTML = '';\n",
              "        dataTable['output_type'] = 'display_data';\n",
              "        await google.colab.output.renderOutput(dataTable, element);\n",
              "        const docLink = document.createElement('div');\n",
              "        docLink.innerHTML = docLinkHtml;\n",
              "        element.appendChild(docLink);\n",
              "      }\n",
              "    </script>\n",
              "  </div>\n",
              "\n",
              "\n",
              "<div id=\"df-e2c8f997-6013-4259-9a75-41a2c67f4ba8\">\n",
              "  <button class=\"colab-df-quickchart\" onclick=\"quickchart('df-e2c8f997-6013-4259-9a75-41a2c67f4ba8')\"\n",
              "            title=\"Suggest charts\"\n",
              "            style=\"display:none;\">\n",
              "\n",
              "<svg xmlns=\"http://www.w3.org/2000/svg\" height=\"24px\"viewBox=\"0 0 24 24\"\n",
              "     width=\"24px\">\n",
              "    <g>\n",
              "        <path d=\"M19 3H5c-1.1 0-2 .9-2 2v14c0 1.1.9 2 2 2h14c1.1 0 2-.9 2-2V5c0-1.1-.9-2-2-2zM9 17H7v-7h2v7zm4 0h-2V7h2v10zm4 0h-2v-4h2v4z\"/>\n",
              "    </g>\n",
              "</svg>\n",
              "  </button>\n",
              "\n",
              "<style>\n",
              "  .colab-df-quickchart {\n",
              "      --bg-color: #E8F0FE;\n",
              "      --fill-color: #1967D2;\n",
              "      --hover-bg-color: #E2EBFA;\n",
              "      --hover-fill-color: #174EA6;\n",
              "      --disabled-fill-color: #AAA;\n",
              "      --disabled-bg-color: #DDD;\n",
              "  }\n",
              "\n",
              "  [theme=dark] .colab-df-quickchart {\n",
              "      --bg-color: #3B4455;\n",
              "      --fill-color: #D2E3FC;\n",
              "      --hover-bg-color: #434B5C;\n",
              "      --hover-fill-color: #FFFFFF;\n",
              "      --disabled-bg-color: #3B4455;\n",
              "      --disabled-fill-color: #666;\n",
              "  }\n",
              "\n",
              "  .colab-df-quickchart {\n",
              "    background-color: var(--bg-color);\n",
              "    border: none;\n",
              "    border-radius: 50%;\n",
              "    cursor: pointer;\n",
              "    display: none;\n",
              "    fill: var(--fill-color);\n",
              "    height: 32px;\n",
              "    padding: 0;\n",
              "    width: 32px;\n",
              "  }\n",
              "\n",
              "  .colab-df-quickchart:hover {\n",
              "    background-color: var(--hover-bg-color);\n",
              "    box-shadow: 0 1px 2px rgba(60, 64, 67, 0.3), 0 1px 3px 1px rgba(60, 64, 67, 0.15);\n",
              "    fill: var(--button-hover-fill-color);\n",
              "  }\n",
              "\n",
              "  .colab-df-quickchart-complete:disabled,\n",
              "  .colab-df-quickchart-complete:disabled:hover {\n",
              "    background-color: var(--disabled-bg-color);\n",
              "    fill: var(--disabled-fill-color);\n",
              "    box-shadow: none;\n",
              "  }\n",
              "\n",
              "  .colab-df-spinner {\n",
              "    border: 2px solid var(--fill-color);\n",
              "    border-color: transparent;\n",
              "    border-bottom-color: var(--fill-color);\n",
              "    animation:\n",
              "      spin 1s steps(1) infinite;\n",
              "  }\n",
              "\n",
              "  @keyframes spin {\n",
              "    0% {\n",
              "      border-color: transparent;\n",
              "      border-bottom-color: var(--fill-color);\n",
              "      border-left-color: var(--fill-color);\n",
              "    }\n",
              "    20% {\n",
              "      border-color: transparent;\n",
              "      border-left-color: var(--fill-color);\n",
              "      border-top-color: var(--fill-color);\n",
              "    }\n",
              "    30% {\n",
              "      border-color: transparent;\n",
              "      border-left-color: var(--fill-color);\n",
              "      border-top-color: var(--fill-color);\n",
              "      border-right-color: var(--fill-color);\n",
              "    }\n",
              "    40% {\n",
              "      border-color: transparent;\n",
              "      border-right-color: var(--fill-color);\n",
              "      border-top-color: var(--fill-color);\n",
              "    }\n",
              "    60% {\n",
              "      border-color: transparent;\n",
              "      border-right-color: var(--fill-color);\n",
              "    }\n",
              "    80% {\n",
              "      border-color: transparent;\n",
              "      border-right-color: var(--fill-color);\n",
              "      border-bottom-color: var(--fill-color);\n",
              "    }\n",
              "    90% {\n",
              "      border-color: transparent;\n",
              "      border-bottom-color: var(--fill-color);\n",
              "    }\n",
              "  }\n",
              "</style>\n",
              "\n",
              "  <script>\n",
              "    async function quickchart(key) {\n",
              "      const quickchartButtonEl =\n",
              "        document.querySelector('#' + key + ' button');\n",
              "      quickchartButtonEl.disabled = true;  // To prevent multiple clicks.\n",
              "      quickchartButtonEl.classList.add('colab-df-spinner');\n",
              "      try {\n",
              "        const charts = await google.colab.kernel.invokeFunction(\n",
              "            'suggestCharts', [key], {});\n",
              "      } catch (error) {\n",
              "        console.error('Error during call to suggestCharts:', error);\n",
              "      }\n",
              "      quickchartButtonEl.classList.remove('colab-df-spinner');\n",
              "      quickchartButtonEl.classList.add('colab-df-quickchart-complete');\n",
              "    }\n",
              "    (() => {\n",
              "      let quickchartButtonEl =\n",
              "        document.querySelector('#df-e2c8f997-6013-4259-9a75-41a2c67f4ba8 button');\n",
              "      quickchartButtonEl.style.display =\n",
              "        google.colab.kernel.accessAllowed ? 'block' : 'none';\n",
              "    })();\n",
              "  </script>\n",
              "</div>\n",
              "    </div>\n",
              "  </div>\n"
            ],
            "application/vnd.google.colaboratory.intrinsic+json": {
              "type": "dataframe",
              "variable_name": "Agitation_labels",
              "repr_error": "0"
            }
          },
          "metadata": {},
          "execution_count": 28
        }
      ]
    },
    {
      "cell_type": "code",
      "source": [
        "### Activity\n",
        "\n",
        "f = 'Activity.csv'\n",
        "fpth = os.path.join(DPATH,f)\n",
        "df = pd.read_csv(fpth)\n",
        "for col in df.columns:\n",
        "    df[col] = correct_col_type(df,col)\n",
        "if 'date' in df.columns:\n",
        "    activity_df = df.rename(columns={'date':'timestamp'})\n",
        "#activity_df = gen_date_col(df,tcol='timestamp')\n",
        "\n",
        "#print(df[670:680])\n",
        "\n",
        "activity_patients = np.unique(df['patient_id'])"
      ],
      "metadata": {
        "id": "4ICguS1OPfmp"
      },
      "id": "4ICguS1OPfmp",
      "execution_count": null,
      "outputs": []
    },
    {
      "cell_type": "code",
      "source": [
        "### Physiology\n",
        "f = 'Physiology.csv'\n",
        "fpth = os.path.join(DPATH,f)\n",
        "df = pd.read_csv(fpth)\n",
        "for col in df.columns:\n",
        "    df[col] = correct_col_type(df,col)\n",
        "if 'date' in df.columns:\n",
        "    physiology_df = df.rename(columns={'date':'timestamp'})\n",
        "#physiology_df = gen_date_col(df,tcol='timestamp')\n",
        "\n",
        "physiology_patients = np.unique(df['patient_id'])"
      ],
      "metadata": {
        "id": "3hs3KDgtP0Eu"
      },
      "id": "3hs3KDgtP0Eu",
      "execution_count": null,
      "outputs": []
    }
  ],
  "metadata": {
    "colab": {
      "provenance": [],
      "name": "tihm_featureExtraction.ipynb",
      "include_colab_link": true
    },
    "kernelspec": {
      "display_name": "Python 3",
      "language": "python",
      "name": "python3"
    },
    "language_info": {
      "codemirror_mode": {
        "name": "ipython",
        "version": 3
      },
      "file_extension": ".py",
      "mimetype": "text/x-python",
      "name": "python",
      "nbconvert_exporter": "python",
      "pygments_lexer": "ipython3",
      "version": "3.11.11"
    }
  },
  "nbformat": 4,
  "nbformat_minor": 5
}