{
  "cells": [
    {
      "cell_type": "markdown",
      "metadata": {
        "id": "view-in-github",
        "colab_type": "text"
      },
      "source": [
        "<a href=\"https://colab.research.google.com/github/jamal94sm/TIHM/blob/main/tihm_featureExtraction.ipynb\" target=\"_parent\"><img src=\"https://colab.research.google.com/assets/colab-badge.svg\" alt=\"Open In Colab\"/></a>"
      ]
    },
    {
      "cell_type": "code",
      "source": [
        "!pip install joypy"
      ],
      "metadata": {
        "colab": {
          "base_uri": "https://localhost:8080/"
        },
        "id": "PxoRR1qGkkhZ",
        "outputId": "4ba54b31-f1b2-45df-8838-cb6bdfa5c619"
      },
      "id": "PxoRR1qGkkhZ",
      "execution_count": null,
      "outputs": [
        {
          "output_type": "stream",
          "name": "stdout",
          "text": [
            "Collecting joypy\n",
            "  Downloading joypy-0.2.6-py2.py3-none-any.whl.metadata (812 bytes)\n",
            "Requirement already satisfied: numpy>=1.16.5 in /usr/local/lib/python3.11/dist-packages (from joypy) (1.26.4)\n",
            "Requirement already satisfied: scipy>=0.11.0 in /usr/local/lib/python3.11/dist-packages (from joypy) (1.13.1)\n",
            "Requirement already satisfied: pandas>=0.20.0 in /usr/local/lib/python3.11/dist-packages (from joypy) (2.2.2)\n",
            "Requirement already satisfied: matplotlib in /usr/local/lib/python3.11/dist-packages (from joypy) (3.10.0)\n",
            "Requirement already satisfied: python-dateutil>=2.8.2 in /usr/local/lib/python3.11/dist-packages (from pandas>=0.20.0->joypy) (2.8.2)\n",
            "Requirement already satisfied: pytz>=2020.1 in /usr/local/lib/python3.11/dist-packages (from pandas>=0.20.0->joypy) (2024.2)\n",
            "Requirement already satisfied: tzdata>=2022.7 in /usr/local/lib/python3.11/dist-packages (from pandas>=0.20.0->joypy) (2025.1)\n",
            "Requirement already satisfied: contourpy>=1.0.1 in /usr/local/lib/python3.11/dist-packages (from matplotlib->joypy) (1.3.1)\n",
            "Requirement already satisfied: cycler>=0.10 in /usr/local/lib/python3.11/dist-packages (from matplotlib->joypy) (0.12.1)\n",
            "Requirement already satisfied: fonttools>=4.22.0 in /usr/local/lib/python3.11/dist-packages (from matplotlib->joypy) (4.55.7)\n",
            "Requirement already satisfied: kiwisolver>=1.3.1 in /usr/local/lib/python3.11/dist-packages (from matplotlib->joypy) (1.4.8)\n",
            "Requirement already satisfied: packaging>=20.0 in /usr/local/lib/python3.11/dist-packages (from matplotlib->joypy) (24.2)\n",
            "Requirement already satisfied: pillow>=8 in /usr/local/lib/python3.11/dist-packages (from matplotlib->joypy) (11.1.0)\n",
            "Requirement already satisfied: pyparsing>=2.3.1 in /usr/local/lib/python3.11/dist-packages (from matplotlib->joypy) (3.2.1)\n",
            "Requirement already satisfied: six>=1.5 in /usr/local/lib/python3.11/dist-packages (from python-dateutil>=2.8.2->pandas>=0.20.0->joypy) (1.17.0)\n",
            "Downloading joypy-0.2.6-py2.py3-none-any.whl (8.6 kB)\n",
            "Installing collected packages: joypy\n",
            "Successfully installed joypy-0.2.6\n"
          ]
        }
      ]
    },
    {
      "cell_type": "markdown",
      "id": "YyxkLFe7k626",
      "metadata": {
        "collapsed": true,
        "id": "YyxkLFe7k626",
        "outputId": "7cea464d-3ec0-4a7f-ebb7-0c37686da3ad"
      },
      "source": [
        "**Clone Github repo and set working directory path**"
      ]
    },
    {
      "cell_type": "code",
      "source": [
        "!git clone https://github.com/jamal94sm/TIHM.git\n",
        "%cd /content/TIHM"
      ],
      "metadata": {
        "id": "AUeojde8Z6jc",
        "colab": {
          "base_uri": "https://localhost:8080/"
        },
        "outputId": "58ff4eb4-9f40-4556-f7f1-c257786ea555"
      },
      "id": "AUeojde8Z6jc",
      "execution_count": null,
      "outputs": [
        {
          "output_type": "stream",
          "name": "stdout",
          "text": [
            "Cloning into 'TIHM'...\n",
            "remote: Enumerating objects: 83, done.\u001b[K\n",
            "remote: Counting objects: 100% (83/83), done.\u001b[K\n",
            "remote: Compressing objects: 100% (78/78), done.\u001b[K\n",
            "remote: Total 83 (delta 27), reused 12 (delta 3), pack-reused 0 (from 0)\u001b[K\n",
            "Receiving objects: 100% (83/83), 23.95 MiB | 4.64 MiB/s, done.\n",
            "Resolving deltas: 100% (27/27), done.\n",
            "Updating files: 100% (27/27), done.\n",
            "/content/TIHM\n"
          ]
        }
      ]
    },
    {
      "cell_type": "markdown",
      "source": [
        "**Load packages**"
      ],
      "metadata": {
        "id": "zgxw3q9IGLOF"
      },
      "id": "zgxw3q9IGLOF"
    },
    {
      "cell_type": "code",
      "source": [
        "import pandas as pd\n",
        "import matplotlib.pyplot as plt\n",
        "import numpy as np\n",
        "import seaborn as sns\n",
        "from matplotlib import cm\n",
        "from joypy import joyplot\n",
        "import matplotlib.patches as mpatches\n",
        "from collections.abc import Iterable\n",
        "from sklearn.preprocessing import StandardScaler\n",
        "import pandas as pd\n",
        "import matplotlib.pyplot as plt\n",
        "import numpy as np\n",
        "import seaborn as sns\n",
        "import os\n",
        "import warnings\n",
        "warnings.filterwarnings('ignore')\n",
        "from matplotlib import cm\n",
        "from joypy import joyplot\n",
        "#from utils import *\n",
        "\n",
        "%matplotlib inline\n",
        "## Set colour palette\n",
        "ibm_colorblind = ['#648FFF', '#FE6100', '#DC267F', '#785EF0', '#FFB000','#48A9A6']\n",
        "sns.set_palette(ibm_colorblind)"
      ],
      "metadata": {
        "id": "m5AN7S6AS9So"
      },
      "id": "m5AN7S6AS9So",
      "execution_count": null,
      "outputs": []
    },
    {
      "cell_type": "markdown",
      "source": [
        "**Functions**"
      ],
      "metadata": {
        "id": "ir6qpxrDLGRG"
      },
      "id": "ir6qpxrDLGRG"
    },
    {
      "cell_type": "code",
      "source": [
        "\n",
        "\n",
        "def correct_col_type(df,col):\n",
        "    raw_type = str(type(df[col].dtype)).split('.')[-1].split('\\'')[0].lower()\n",
        "    #print(col,raw_type)\n",
        "    if 'object' in raw_type:\n",
        "        if 'date' in col or 'timestamp' in col or 'datetime' in col:\n",
        "            return pd.to_datetime(df[col])\n",
        "        else:\n",
        "            return df[col].astype('category')\n",
        "    else:\n",
        "        return df[col]\n",
        "\n",
        "\n",
        "def gen_date_col(df, tcol):\n",
        "    df['date'] = pd.to_datetime(df[tcol].dt.date)\n",
        "    return df\n",
        "\n",
        "\n",
        "\n"
      ],
      "metadata": {
        "id": "EUB26IzPc0cQ"
      },
      "id": "EUB26IzPc0cQ",
      "execution_count": null,
      "outputs": []
    },
    {
      "cell_type": "markdown",
      "source": [
        "**Set Data and Fig folders paths**"
      ],
      "metadata": {
        "id": "fk-vL5PTGiDm"
      },
      "id": "fk-vL5PTGiDm"
    },
    {
      "cell_type": "code",
      "execution_count": null,
      "id": "d366e263",
      "metadata": {
        "id": "d366e263"
      },
      "outputs": [],
      "source": [
        "## Please change the path with the path of your dataset\n",
        "DPATH = './Data'\n",
        "SAVE_PATH = './Figs/'\n",
        "if not os.path.exists(SAVE_PATH):\n",
        "    os.makedirs(SAVE_PATH)\n",
        "\n"
      ]
    },
    {
      "cell_type": "markdown",
      "source": [
        "**Import Files**"
      ],
      "metadata": {
        "id": "wzKsui6fJR9q"
      },
      "id": "wzKsui6fJR9q"
    },
    {
      "cell_type": "code",
      "source": [],
      "metadata": {
        "id": "ZPLHwtYKJRET"
      },
      "id": "ZPLHwtYKJRET",
      "execution_count": null,
      "outputs": []
    }
  ],
  "metadata": {
    "colab": {
      "provenance": [],
      "name": "tihm_featureExtraction.ipynb",
      "include_colab_link": true
    },
    "kernelspec": {
      "display_name": "Python 3",
      "language": "python",
      "name": "python3"
    },
    "language_info": {
      "codemirror_mode": {
        "name": "ipython",
        "version": 3
      },
      "file_extension": ".py",
      "mimetype": "text/x-python",
      "name": "python",
      "nbconvert_exporter": "python",
      "pygments_lexer": "ipython3",
      "version": "3.11.11"
    }
  },
  "nbformat": 4,
  "nbformat_minor": 5
}